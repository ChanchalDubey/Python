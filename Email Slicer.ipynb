{
 "cells": [
  {
   "cell_type": "code",
   "execution_count": 1,
   "metadata": {},
   "outputs": [
    {
     "name": "stdout",
     "output_type": "stream",
     "text": [
      "Enter Your Email: ankitadubey@gmail.com\n",
      "Your user name is 'ankitadubey' and your domain is 'gmail.com'\n"
     ]
    }
   ],
   "source": [
    "#get user email address\n",
    "email = input(\"Enter Your Email: \").strip()\n",
    "#slice out username\n",
    "username = email[:email.index(\"@\")]\n",
    "#slice out the domain name\n",
    "domain_name = email[email.index(\"@\")+1:]\n",
    "#format message\n",
    "format_ = (f\"Your user name is '{username}' and your domain is '{domain_name}'\")\n",
    "#display output message\n",
    "print(format_)"
   ]
  },
  {
   "cell_type": "code",
   "execution_count": null,
   "metadata": {},
   "outputs": [],
   "source": []
  }
 ],
 "metadata": {
  "kernelspec": {
   "display_name": "Python 3",
   "language": "python",
   "name": "python3"
  },
  "language_info": {
   "codemirror_mode": {
    "name": "ipython",
    "version": 3
   },
   "file_extension": ".py",
   "mimetype": "text/x-python",
   "name": "python",
   "nbconvert_exporter": "python",
   "pygments_lexer": "ipython3",
   "version": "3.7.4"
  }
 },
 "nbformat": 4,
 "nbformat_minor": 2
}
