{
 "cells": [
  {
   "cell_type": "markdown",
   "metadata": {},
   "source": [
    "# Dice Roll Simulator"
   ]
  },
  {
   "cell_type": "code",
   "execution_count": 1,
   "metadata": {},
   "outputs": [
    {
     "name": "stdout",
     "output_type": "stream",
     "text": [
      "Rolling the Dices...\n",
      "The values are\n",
      "4\n",
      "6\n",
      "Roll the Dices again?y\n",
      "Rolling the Dices...\n",
      "The values are\n",
      "1\n",
      "6\n",
      "Roll the Dices again?y\n",
      "Rolling the Dices...\n",
      "The values are\n",
      "4\n",
      "4\n",
      "Roll the Dices again?yes\n",
      "Rolling the Dices...\n",
      "The values are\n",
      "2\n",
      "3\n",
      "Roll the Dices again?n\n"
     ]
    }
   ],
   "source": [
    "import random \n",
    "min_value=1\n",
    "max_value=6\n",
    "\n",
    "roll_again='yes'\n",
    "\n",
    "while roll_again=='yes' or roll_again=='y':\n",
    "    print (\"Rolling the Dices...\")\n",
    "    print(\"The values are\")\n",
    "    \n",
    "    print(random.randint(min_value,max_value))\n",
    "    \n",
    "    print(random.randint(min_value,max_value))\n",
    "    \n",
    "    roll_again=input(\"Roll the Dices again? \")"
   ]
  },
  {
   "cell_type": "code",
   "execution_count": null,
   "metadata": {},
   "outputs": [],
   "source": []
  }
 ],
 "metadata": {
  "kernelspec": {
   "display_name": "Python 3",
   "language": "python",
   "name": "python3"
  },
  "language_info": {
   "codemirror_mode": {
    "name": "ipython",
    "version": 3
   },
   "file_extension": ".py",
   "mimetype": "text/x-python",
   "name": "python",
   "nbconvert_exporter": "python",
   "pygments_lexer": "ipython3",
   "version": "3.7.4"
  }
 },
 "nbformat": 4,
 "nbformat_minor": 2
}
