{
 "cells": [
  {
   "cell_type": "markdown",
   "metadata": {},
   "source": [
    "# Object-Oriented Programming\n",
    "\n",
    "## What Is Object-Oriented Programming?\n",
    "- Object-Oriented Programming(OOP), is all about creating “objects”. An object is a group of interrelated variables and functions. \n",
    "- These variables are often referred to as properties of the object\n",
    "- functions are referred to as the behavior of the objects. \n",
    "- These objects provide a better and clear structure for the program.\n",
    "\n",
    "- For example, a car can be an object. If we consider the car as an object then its properties would be – its color, its model, its price, its brand, etc. And its behavior/function would be acceleration, slowing down, gear change\n",
    "\n",
    "## Major Python OOPs concept-\n",
    "In this section, we will deep dive into the basic concepts of OOP. We will cover the following topics-\n",
    "\n",
    "- Class\n",
    "- Object\n",
    "- Method\n",
    "- Inheritance\n",
    "- Encapsulation\n",
    "- Polymorphism\n",
    "- Data Abstraction\n",
    "\n",
    "## 1. What is a Class?\n",
    "- A class is a collection of objects. \n",
    "- Unlike the primitive data structures, classes are data structures that the user defines.\n",
    "- They make the code more manageable.\n",
    "\n",
    "-- We define a class with a keyword “class” following the class_name and semicolon. And we consider everything you write under this after using indentation as its body. -"
   ]
  },
  {
   "cell_type": "code",
   "execution_count": 2,
   "metadata": {},
   "outputs": [],
   "source": [
    "class car:\n",
    "    pass"
   ]
  },
  {
   "cell_type": "markdown",
   "metadata": {},
   "source": [
    "## 2. Objects and object instantiation\n",
    "- When we define a class only the description or a blueprint of the object is created.\n",
    "- There is no memory allocation until we create its object.\n",
    "- The objector instance contains real data or information.\n",
    "- Instantiation is nothing but creating a new object/instance of a class."
   ]
  },
  {
   "cell_type": "code",
   "execution_count": 5,
   "metadata": {},
   "outputs": [
    {
     "data": {
      "text/plain": [
       "<__main__.car at 0x1cb643d0cc8>"
      ]
     },
     "execution_count": 5,
     "metadata": {},
     "output_type": "execute_result"
    }
   ],
   "source": [
    "car1=car()\n",
    "car1"
   ]
  },
  {
   "cell_type": "code",
   "execution_count": 6,
   "metadata": {},
   "outputs": [],
   "source": [
    "car1.window=6\n",
    "car1.door=4"
   ]
  },
  {
   "cell_type": "code",
   "execution_count": 7,
   "metadata": {},
   "outputs": [
    {
     "name": "stdout",
     "output_type": "stream",
     "text": [
      "6\n"
     ]
    }
   ],
   "source": [
    "print(car1.window)"
   ]
  },
  {
   "cell_type": "code",
   "execution_count": 8,
   "metadata": {},
   "outputs": [],
   "source": [
    "car2=car()"
   ]
  },
  {
   "cell_type": "code",
   "execution_count": 9,
   "metadata": {},
   "outputs": [],
   "source": [
    "car2.wheel=4"
   ]
  },
  {
   "cell_type": "code",
   "execution_count": 11,
   "metadata": {},
   "outputs": [
    {
     "name": "stdout",
     "output_type": "stream",
     "text": [
      "4\n"
     ]
    }
   ],
   "source": [
    "print(car2.wheel)"
   ]
  },
  {
   "cell_type": "markdown",
   "metadata": {},
   "source": [
    "# Class constructor\n",
    "The job of the class constructor is to assign the values to the data members of the class when an object of the class is created.\n",
    "\n",
    "## _init_()\n",
    "The properties of the car or any other object must be inside a method that we call __init__( ). This __init__() method is also known as the constructor method. We call a constructor method whenever an object of the class is constructed.\n",
    "\n"
   ]
  },
  {
   "cell_type": "code",
   "execution_count": 16,
   "metadata": {},
   "outputs": [],
   "source": [
    "class car:\n",
    "    def _init(self,name,color):\n",
    "        self.name= name\n",
    "        self.color=color"
   ]
  },
  {
   "cell_type": "markdown",
   "metadata": {},
   "source": [
    "The parameter of the __init__() method. So, the first parameter of this method has to be self. Then only will the rest of the parameters come.\n",
    "\n",
    "The two statements inside the constructor method are –\n",
    "- self.names = name:\n",
    "- self.colors = color:\n",
    "\n",
    "This will create new attributes namely name and color and then assign the value of the respective parameters to them.\n",
    "The “self” keyword represents the instance of the class. \n",
    "By using the “self” keyword we can access the attributes and methods of the class.\n",
    "It is useful in method definitions and in variable initialization.\n",
    "The “self” is explicitly used every time we define a method.\n",
    "\n",
    "Note: You can create attributes outside of this __init__() method also. But those attributes will be universal to the whole class and you will have to assign the value to them.\n",
    "\n",
    "Suppose all the cars in your showroom are Sedan and instead of specifying it again and again you can fix the value of car_type as Sedan by creating an attribute outside the __init__()."
   ]
  },
  {
   "cell_type": "code",
   "execution_count": 40,
   "metadata": {},
   "outputs": [],
   "source": [
    "class Car:\n",
    "    car_type=\"Sedan\"       #class attribute\n",
    "    def __init__(self,name,color):\n",
    "        self.names=name    # instance attribute\n",
    "        self.colors=color  # instance attribute"
   ]
  },
  {
   "cell_type": "markdown",
   "metadata": {},
   "source": [
    "Here, Instance attributes refer to the attributes inside the constructor method i.e self.name and self.color. And, Class attributes refer to the attributes outside the constructor method i.e car_type."
   ]
  },
  {
   "cell_type": "code",
   "execution_count": 41,
   "metadata": {},
   "outputs": [],
   "source": [
    "car1=Car(\"Honda City\",\"Blue\")"
   ]
  },
  {
   "cell_type": "code",
   "execution_count": 42,
   "metadata": {},
   "outputs": [],
   "source": [
    "car2=Car(\"Skoda Octavia\",\"Red\")"
   ]
  },
  {
   "cell_type": "code",
   "execution_count": 44,
   "metadata": {},
   "outputs": [
    {
     "name": "stdout",
     "output_type": "stream",
     "text": [
      "Honda City\n"
     ]
    }
   ],
   "source": [
    "print(car1.names)"
   ]
  },
  {
   "cell_type": "code",
   "execution_count": 45,
   "metadata": {},
   "outputs": [
    {
     "name": "stdout",
     "output_type": "stream",
     "text": [
      "Red\n"
     ]
    }
   ],
   "source": [
    "print(car2.colors)"
   ]
  },
  {
   "cell_type": "markdown",
   "metadata": {},
   "source": [
    "# 3. Class methods\n",
    "- So far we’ve added the properties of the car.Now it’s time to add some behavior.\n",
    "- Methods are the functions that we use to describe the behavior of the objects.\n",
    "- They are also defined inside a class. "
   ]
  },
  {
   "cell_type": "code",
   "execution_count": 60,
   "metadata": {},
   "outputs": [],
   "source": [
    "class car:\n",
    "    def __init__(self,name,mileage):\n",
    "        self.names=name\n",
    "        self.mileages=mileage\n",
    "    \n",
    "    def description(self):\n",
    "        return f\"The {self.names} car gives the mileage of {self.mileages}km/l\"\n",
    "    \n",
    "    def max_speed(self,speed):\n",
    "        return f\"The {self.names} runs at the maximum speed of {speed}km/hr\""
   ]
  },
  {
   "cell_type": "markdown",
   "metadata": {},
   "source": [
    "The methods defined inside a class other than the constructor method are known as the instance methods. \n",
    "We have two instance methods here- description() and max_speed().\n",
    "\n",
    "- description()- This method is returning a string with the description of the car such as the name and its mileage. This method has no additional parameter. This method is using the instance attributes.\n",
    "- max_speed()- This method has one additional parameter and returning a string displaying the car name and its speed.\n",
    "\n",
    "Notice that the additional parameter speed is not using the “self” keyword. Since speed is not an instance variable, we don’t use the self keyword as its prefix.  \n",
    "\n",
    "Let’s create an object for the class described above."
   ]
  },
  {
   "cell_type": "code",
   "execution_count": 61,
   "metadata": {},
   "outputs": [
    {
     "name": "stdout",
     "output_type": "stream",
     "text": [
      "The Honda City car gives the mileage of 24.1km/l\n"
     ]
    }
   ],
   "source": [
    "car1=car(\"Honda City\",24.1)\n",
    "print(car1.description())"
   ]
  },
  {
   "cell_type": "code",
   "execution_count": 62,
   "metadata": {},
   "outputs": [
    {
     "name": "stdout",
     "output_type": "stream",
     "text": [
      "The Honda City runs at the maximum speed of 150km/hr\n"
     ]
    }
   ],
   "source": [
    "print(car1.max_speed(150))"
   ]
  },
  {
   "cell_type": "markdown",
   "metadata": {},
   "source": [
    "Note: Three important things to remember are-\n",
    "\n",
    "- You can create any number of objects of a class.\n",
    "- If the method requires n parameters and you do not pass the same number of arguments then an error will occur.\n",
    "- Order of the arguments matters.\n",
    "\n",
    "### Creating more than one object of a class"
   ]
  },
  {
   "cell_type": "code",
   "execution_count": 66,
   "metadata": {},
   "outputs": [],
   "source": [
    "class car():\n",
    "    def __init__(self,name,mileage):\n",
    "        self.names=name\n",
    "        self.mileages=mileage\n",
    "        \n",
    "    def max_speed(self,speed):\n",
    "        return f\"The {self.names} runs at the maximum speed of {speed}km/hr\""
   ]
  },
  {
   "cell_type": "code",
   "execution_count": 67,
   "metadata": {},
   "outputs": [
    {
     "name": "stdout",
     "output_type": "stream",
     "text": [
      "The Honda City runs at the maximum speed of 150km/hr\n",
      "The Skoda Octavia runs at the maximum speed of 200km/hr\n"
     ]
    }
   ],
   "source": [
    "car1=car(\"Honda City\",12.6)\n",
    "print(car1.max_speed(150))\n",
    "\n",
    "car2=car(\"Skoda Octavia\",13)\n",
    "print(car2.max_speed(200))"
   ]
  },
  {
   "cell_type": "markdown",
   "metadata": {},
   "source": [
    "### Passing the wrong number of arguments."
   ]
  },
  {
   "cell_type": "code",
   "execution_count": 68,
   "metadata": {},
   "outputs": [],
   "source": [
    "class car():\n",
    "    def __init__(self,name,mileage):\n",
    "        self.names=name\n",
    "        self.mileages=mileage"
   ]
  },
  {
   "cell_type": "code",
   "execution_count": 69,
   "metadata": {},
   "outputs": [
    {
     "ename": "TypeError",
     "evalue": "__init__() missing 1 required positional argument: 'mileage'",
     "output_type": "error",
     "traceback": [
      "\u001b[1;31m---------------------------------------------------------------------------\u001b[0m",
      "\u001b[1;31mTypeError\u001b[0m                                 Traceback (most recent call last)",
      "\u001b[1;32m<ipython-input-69-0f5f0b88ea06>\u001b[0m in \u001b[0;36m<module>\u001b[1;34m\u001b[0m\n\u001b[1;32m----> 1\u001b[1;33m \u001b[0mcar1\u001b[0m\u001b[1;33m=\u001b[0m\u001b[0mcar\u001b[0m\u001b[1;33m(\u001b[0m\u001b[1;34m\"Honda city\"\u001b[0m\u001b[1;33m)\u001b[0m\u001b[1;33m\u001b[0m\u001b[1;33m\u001b[0m\u001b[0m\n\u001b[0m\u001b[0;32m      2\u001b[0m \u001b[0mprint\u001b[0m\u001b[1;33m(\u001b[0m\u001b[0mcar1\u001b[0m\u001b[1;33m)\u001b[0m\u001b[1;33m\u001b[0m\u001b[1;33m\u001b[0m\u001b[0m\n",
      "\u001b[1;31mTypeError\u001b[0m: __init__() missing 1 required positional argument: 'mileage'"
     ]
    }
   ],
   "source": [
    "car1=car(\"Honda city\")\n",
    "print(car1)"
   ]
  },
  {
   "cell_type": "markdown",
   "metadata": {},
   "source": [
    "Since we did not provide the second argument, we got this error."
   ]
  },
  {
   "cell_type": "markdown",
   "metadata": {},
   "source": [
    "### Order of the arguments"
   ]
  },
  {
   "cell_type": "code",
   "execution_count": 70,
   "metadata": {},
   "outputs": [],
   "source": [
    "class Car:\n",
    "\n",
    "    def __init__(self, name, mileage):\n",
    "        self.name = name \n",
    "        self.mileage = mileage \n",
    "\n",
    "    def description(self):                \n",
    "        return f\"The {self.name} car gives the mileage of {self.mileage}km/l\""
   ]
  },
  {
   "cell_type": "code",
   "execution_count": 71,
   "metadata": {},
   "outputs": [
    {
     "name": "stdout",
     "output_type": "stream",
     "text": [
      "The 24.1 car gives the mileage of Honda Citykm/l\n"
     ]
    }
   ],
   "source": [
    "Honda = Car(24.1,\"Honda City\")\n",
    "print(Honda.description())"
   ]
  },
  {
   "cell_type": "markdown",
   "metadata": {},
   "source": [
    "Messed up! Notice we changed the order of arguments\n",
    "\n",
    "## 4. Inheritance\n",
    "\n",
    "- Inheritance is the procedure in which one class inherits the attributes and methods of another class.\n",
    "- The class whose properties and methods are inherited is known as Parent class.\n",
    "- And the class that inherits the properties from the parent class is the Child class.\n",
    "\n",
    "class parent_class:\n",
    "\n",
    "body of parent class\n",
    "\n",
    "\n",
    "\n",
    "class child_class( parent_class):\n",
    "\n",
    "body of child class"
   ]
  },
  {
   "cell_type": "code",
   "execution_count": 73,
   "metadata": {},
   "outputs": [],
   "source": [
    "class car:              # parent class\n",
    "    def __init__(self,name,mileage):\n",
    "        self.names=name\n",
    "        self.mileages=mileage\n",
    "        \n",
    "    def description(self):\n",
    "        return f\"The {self.names} car gives the mileage of {self.mileages}km/l\"\n",
    "    \n",
    "class BMW(car):       #child class\n",
    "    pass\n",
    "\n",
    "class Audi(car):     #child class\n",
    "    def audi_desc(self):\n",
    "        return \"This is the description method of class Audi.\"\n",
    "    "
   ]
  },
  {
   "cell_type": "code",
   "execution_count": 75,
   "metadata": {},
   "outputs": [
    {
     "name": "stdout",
     "output_type": "stream",
     "text": [
      "The BMW 7-series car gives the mileage of 39.53km/l\n"
     ]
    }
   ],
   "source": [
    "car1= BMW(\"BMW 7-series\",39.53)\n",
    "print(car1.description())"
   ]
  },
  {
   "cell_type": "code",
   "execution_count": 76,
   "metadata": {},
   "outputs": [
    {
     "name": "stdout",
     "output_type": "stream",
     "text": [
      "The Audi A8 L car gives the mileage of 14km/l\n",
      "This is the description method of class Audi.\n"
     ]
    }
   ],
   "source": [
    "car2=Audi(\"Audi A8 L\",14)\n",
    "print(car2.description())\n",
    "print(car2.audi_desc())"
   ]
  },
  {
   "cell_type": "markdown",
   "metadata": {},
   "source": [
    "We have created two child classes namely “BMW” and “Audi” who have inherited the methods and properties of the parent class “Car”.\n",
    "We have provided no additional features and methods in the class BMW.\n",
    "Whereas one additional method inside the class Audi.\n",
    "\n",
    "Notice how the instance method description() of the parent class is accessible by the objects of child classes with the help of car1.description() and car2.description().\n",
    "And also the separate method of class Audi is also accessible using car2.audi_desc().\n",
    "\n",
    " "
   ]
  },
  {
   "cell_type": "code",
   "execution_count": 78,
   "metadata": {},
   "outputs": [],
   "source": [
    "class Car():                                          #parent class\n",
    "    def __init__(self,windows,doors,enginetype):        \n",
    "        self.windows=windows\n",
    "        self.doors=doors\n",
    "        self.enginetype=enginetype\n",
    "    def drive(self):\n",
    "        print(\"The Person drives the car\")\n",
    "        \n",
    "class Audi(Car):                                      #child class\n",
    "    def __init__(self,windows,doors,enginetype,enableai):\n",
    "        super().__init__(windows,doors,enginetype)     #calling parent init constructor\n",
    "        self.enable=enableai\n",
    "    def selfdriving(self):\n",
    "        print(\"Audi supports Self driving\")"
   ]
  },
  {
   "cell_type": "code",
   "execution_count": 80,
   "metadata": {},
   "outputs": [
    {
     "name": "stdout",
     "output_type": "stream",
     "text": [
      "Audi supports Self driving\n"
     ]
    }
   ],
   "source": [
    "audiQ7=Audi(5,5,\"diesel\",True)\n",
    "audiQ7.selfdriving()"
   ]
  },
  {
   "cell_type": "markdown",
   "metadata": {},
   "source": [
    "## 5. Encapsulation\n",
    "- Encapsulation is a way to ensure security.\n",
    "- Basically, it hides the data from the access of outsiders. Such as if an organization wants to protect an object/information from unwanted access by clients or any unauthorized person then encapsulation is the way to ensure this.\n",
    "\n",
    "\n",
    "\n",
    "\n",
    "- You can declare the methods or the attributes protected by using a single underscore ( _ ) before their names.\n",
    "- Such as- self._name or def _method( ); Both of these lines tell that the attribute and method are protected and should not be used outside the access of the class and sub-classes but can be accessed by class methods and objects.\n",
    "- Though Python uses ‘ _ ‘ just as a coding convention, it tells that you should use these attributes/methods within the scope of the class.\n",
    "- But you can still access the variables and methods which are defined as protected, as usual.\n",
    "\n",
    "- Now for actually preventing the access of attributes/methods from outside the scope of a class, you can use “private members“.\n",
    "- In order to declare the attributes/method as private members, use double underscore ( __ ) in the prefix.\n",
    "- Such as – self.__name or def __method(); Both of these lines tell that the attribute and method are private and access is not possible from outside the class."
   ]
  },
  {
   "cell_type": "code",
   "execution_count": 107,
   "metadata": {},
   "outputs": [],
   "source": [
    "class car:\n",
    "    def __init__(self,name,mileage):\n",
    "        self._names=name               #protected variable\n",
    "        self.mileages=mileage\n",
    "    \n",
    "    def description(self):\n",
    "        return f\"The {self._names} car gives the mileage of {self.mileages}km/l\""
   ]
  },
  {
   "cell_type": "code",
   "execution_count": 108,
   "metadata": {},
   "outputs": [
    {
     "name": "stdout",
     "output_type": "stream",
     "text": [
      "The BMW 7-series car gives the mileage of 39.53km/l\n"
     ]
    }
   ],
   "source": [
    "car1=car(\"BMW 7-series\",39.53)\n",
    "#accessing protected variable via class method \n",
    "print(car1.description())"
   ]
  },
  {
   "cell_type": "code",
   "execution_count": 109,
   "metadata": {},
   "outputs": [
    {
     "data": {
      "text/plain": [
       "['__class__',\n",
       " '__delattr__',\n",
       " '__dict__',\n",
       " '__dir__',\n",
       " '__doc__',\n",
       " '__eq__',\n",
       " '__format__',\n",
       " '__ge__',\n",
       " '__getattribute__',\n",
       " '__gt__',\n",
       " '__hash__',\n",
       " '__init__',\n",
       " '__init_subclass__',\n",
       " '__le__',\n",
       " '__lt__',\n",
       " '__module__',\n",
       " '__ne__',\n",
       " '__new__',\n",
       " '__reduce__',\n",
       " '__reduce_ex__',\n",
       " '__repr__',\n",
       " '__setattr__',\n",
       " '__sizeof__',\n",
       " '__str__',\n",
       " '__subclasshook__',\n",
       " '__weakref__',\n",
       " '_names',\n",
       " 'description',\n",
       " 'mileages']"
      ]
     },
     "execution_count": 109,
     "metadata": {},
     "output_type": "execute_result"
    }
   ],
   "source": [
    "dir(car1)"
   ]
  },
  {
   "cell_type": "code",
   "execution_count": 110,
   "metadata": {},
   "outputs": [
    {
     "name": "stdout",
     "output_type": "stream",
     "text": [
      "BMW 7-series\n",
      "39.53\n"
     ]
    }
   ],
   "source": [
    "#accessing protected variable directly from outside\n",
    "print(car1._names)\n",
    "print(car1.mileages)"
   ]
  },
  {
   "cell_type": "code",
   "execution_count": 114,
   "metadata": {},
   "outputs": [],
   "source": [
    "class car:\n",
    "    def __init__(self, name, mileage):\n",
    "        self.__names = name              #private variable        \n",
    "        self.mileages = mileage \n",
    "    def description(self):\n",
    "        return f\"The {self.__names} car gives the mileage of {self.mileages}km/l\""
   ]
  },
  {
   "cell_type": "code",
   "execution_count": 115,
   "metadata": {},
   "outputs": [
    {
     "name": "stdout",
     "output_type": "stream",
     "text": [
      "The BMW 7-series car gives the mileage of 39.53km/l\n"
     ]
    }
   ],
   "source": [
    "car1=car(\"BMW 7-series\",39.53)\n",
    "\n",
    "#accessing private variable via class method \n",
    "print(car1.description())\n"
   ]
  },
  {
   "cell_type": "code",
   "execution_count": 116,
   "metadata": {},
   "outputs": [
    {
     "data": {
      "text/plain": [
       "['__class__',\n",
       " '__delattr__',\n",
       " '__dict__',\n",
       " '__dir__',\n",
       " '__doc__',\n",
       " '__eq__',\n",
       " '__format__',\n",
       " '__ge__',\n",
       " '__getattribute__',\n",
       " '__gt__',\n",
       " '__hash__',\n",
       " '__init__',\n",
       " '__init_subclass__',\n",
       " '__le__',\n",
       " '__lt__',\n",
       " '__module__',\n",
       " '__ne__',\n",
       " '__new__',\n",
       " '__reduce__',\n",
       " '__reduce_ex__',\n",
       " '__repr__',\n",
       " '__setattr__',\n",
       " '__sizeof__',\n",
       " '__str__',\n",
       " '__subclasshook__',\n",
       " '__weakref__',\n",
       " '_car__names',\n",
       " 'description',\n",
       " 'mileages']"
      ]
     },
     "execution_count": 116,
     "metadata": {},
     "output_type": "execute_result"
    }
   ],
   "source": [
    "dir(car1)"
   ]
  },
  {
   "cell_type": "code",
   "execution_count": 117,
   "metadata": {},
   "outputs": [
    {
     "name": "stdout",
     "output_type": "stream",
     "text": [
      "39.53\n"
     ]
    },
    {
     "ename": "AttributeError",
     "evalue": "'car' object has no attribute '__names'",
     "output_type": "error",
     "traceback": [
      "\u001b[1;31m---------------------------------------------------------------------------\u001b[0m",
      "\u001b[1;31mAttributeError\u001b[0m                            Traceback (most recent call last)",
      "\u001b[1;32m<ipython-input-117-9b7e791490aa>\u001b[0m in \u001b[0;36m<module>\u001b[1;34m\u001b[0m\n\u001b[0;32m      1\u001b[0m \u001b[1;31m#accessing private variable directly from outside\u001b[0m\u001b[1;33m\u001b[0m\u001b[1;33m\u001b[0m\u001b[1;33m\u001b[0m\u001b[0m\n\u001b[0;32m      2\u001b[0m \u001b[0mprint\u001b[0m\u001b[1;33m(\u001b[0m\u001b[0mcar1\u001b[0m\u001b[1;33m.\u001b[0m\u001b[0mmileages\u001b[0m\u001b[1;33m)\u001b[0m\u001b[1;33m\u001b[0m\u001b[1;33m\u001b[0m\u001b[0m\n\u001b[1;32m----> 3\u001b[1;33m \u001b[0mprint\u001b[0m\u001b[1;33m(\u001b[0m\u001b[0mcar1\u001b[0m\u001b[1;33m.\u001b[0m\u001b[0m__names\u001b[0m\u001b[1;33m)\u001b[0m\u001b[1;33m\u001b[0m\u001b[1;33m\u001b[0m\u001b[0m\n\u001b[0m",
      "\u001b[1;31mAttributeError\u001b[0m: 'car' object has no attribute '__names'"
     ]
    }
   ],
   "source": [
    "#accessing private variable directly from outside\n",
    "print(car1.mileages)\n",
    "print(car1.__names)"
   ]
  },
  {
   "cell_type": "markdown",
   "metadata": {},
   "source": [
    "When we tried accessing the private variable using the description() method, we encountered no error. But when we tried accessing the private variable directly outside the class, then Python gave us an error stating: car object has no attribute ‘__name’.\n",
    "\n",
    "\n",
    "You can still access this attribute directly using its mangled name. Name mangling is a mechanism we use for accessing the class members from outside. The Python interpreter rewrites any identifier with “____var” as “_ClassName___var”. And using this you can access the class member from outside as well."
   ]
  },
  {
   "cell_type": "code",
   "execution_count": 128,
   "metadata": {},
   "outputs": [],
   "source": [
    "class car:\n",
    "\n",
    "    def __init__(self, name, mileage):\n",
    "        self.__names = name              #private variable        \n",
    "        self.mileages = mileage \n",
    "\n",
    "    def description(self):                \n",
    "        return f\"The {self.__names} car gives the mileage of {self.mileages}km/l\""
   ]
  },
  {
   "cell_type": "code",
   "execution_count": 129,
   "metadata": {},
   "outputs": [
    {
     "name": "stdout",
     "output_type": "stream",
     "text": [
      "The BMW 7-series car gives the mileage of 39.53km/l\n"
     ]
    }
   ],
   "source": [
    "car1 = car(\"BMW 7-series\",39.53)\n",
    "\n",
    "#accessing private variable via class method \n",
    "print(car1.description())"
   ]
  },
  {
   "cell_type": "code",
   "execution_count": 131,
   "metadata": {},
   "outputs": [
    {
     "name": "stdout",
     "output_type": "stream",
     "text": [
      "39.53\n",
      "BMW 7-series\n"
     ]
    }
   ],
   "source": [
    "#accessing private variable directly from outside\n",
    "print(car1.mileages)\n",
    "print(car1._car__names)      #mangled name"
   ]
  },
  {
   "cell_type": "markdown",
   "metadata": {},
   "source": [
    "Note that the mangling rule’s design mostly avoids accidents. But it is still possible to access or modify a variable that is considered private. This can even be useful in special circumstances, such as in the debugger."
   ]
  },
  {
   "cell_type": "markdown",
   "metadata": {},
   "source": [
    "# 6. Polymorphism\n",
    "- This is a Greek word. If we break the term Polymorphism, we get “poly”-many and “morph”-forms.\n",
    "- So Polymorphism means having many forms.\n",
    "- In OOP it refers to the functions having the same names but carrying different functionalities."
   ]
  },
  {
   "cell_type": "code",
   "execution_count": 132,
   "metadata": {},
   "outputs": [],
   "source": [
    "class Audi:\n",
    "    def description(self):\n",
    "        print(\"This the description function of class AUDI.\")\n",
    "        \n",
    "class BMW:\n",
    "    def description(self):\n",
    "        print(\"This the description function of class BMW.\")"
   ]
  },
  {
   "cell_type": "code",
   "execution_count": 133,
   "metadata": {},
   "outputs": [],
   "source": [
    "audi = Audi()\n",
    "bmw = BMW()"
   ]
  },
  {
   "cell_type": "code",
   "execution_count": 134,
   "metadata": {},
   "outputs": [
    {
     "name": "stdout",
     "output_type": "stream",
     "text": [
      "This the description function of class AUDI.\n",
      "This the description function of class BMW.\n"
     ]
    }
   ],
   "source": [
    "for car in (audi,bmw):\n",
    "    car.description()"
   ]
  },
  {
   "cell_type": "markdown",
   "metadata": {},
   "source": [
    "When the function is called using the object audi then the function of class Audi is called and when it is called using the object bmw then the function of class BMW is called.\n",
    "\n",
    "# 7. Data abstraction\n",
    "- We use Abstraction for hiding the internal details or implementations of a function and showing its functionalities only.\n",
    "- This is similar to the way you know how to drive a car without knowing the background mechanism.\n",
    "- Or you know how to turn on or off a light using a switch but you don’t know what is happening behind the socket.\n",
    "- Any class with at least one abstract function is an abstract class.\n",
    "- In order to create an abstraction class first, you need to import ABC class from abc module.\n",
    "- This lets you create abstract methods inside it. ABC stands for Abstract Base Class.\n",
    "\n",
    "from abc import ABC\n",
    "\n",
    "class abs_class(ABC):\n",
    "    \n",
    "    Body of the class\n",
    "    \n",
    "#### Important thing is– you cannot create an object for the abstract class with the abstract method. For example-"
   ]
  },
  {
   "cell_type": "code",
   "execution_count": 143,
   "metadata": {},
   "outputs": [],
   "source": [
    "from abc import ABC, abstractmethod\n",
    "\n",
    "class Car(ABC):\n",
    "    def __init__(self,name):\n",
    "        self.name = name \n",
    "\n",
    "    @abstractmethod\n",
    "    def price(self,x):\n",
    "        pass"
   ]
  },
  {
   "cell_type": "code",
   "execution_count": 144,
   "metadata": {},
   "outputs": [
    {
     "ename": "TypeError",
     "evalue": "Can't instantiate abstract class Car with abstract methods price",
     "output_type": "error",
     "traceback": [
      "\u001b[1;31m---------------------------------------------------------------------------\u001b[0m",
      "\u001b[1;31mTypeError\u001b[0m                                 Traceback (most recent call last)",
      "\u001b[1;32m<ipython-input-144-6ae09b643ded>\u001b[0m in \u001b[0;36m<module>\u001b[1;34m\u001b[0m\n\u001b[1;32m----> 1\u001b[1;33m \u001b[0mobj\u001b[0m \u001b[1;33m=\u001b[0m \u001b[0mCar\u001b[0m\u001b[1;33m(\u001b[0m\u001b[1;34m\"Honda City\"\u001b[0m\u001b[1;33m)\u001b[0m\u001b[1;33m\u001b[0m\u001b[1;33m\u001b[0m\u001b[0m\n\u001b[0m",
      "\u001b[1;31mTypeError\u001b[0m: Can't instantiate abstract class Car with abstract methods price"
     ]
    }
   ],
   "source": [
    "obj = Car(\"Honda City\")"
   ]
  },
  {
   "cell_type": "code",
   "execution_count": 145,
   "metadata": {},
   "outputs": [],
   "source": [
    "from abc import ABC, abstractmethod\n",
    "\n",
    "class Car(ABC):\n",
    "    def __init__(self,name):\n",
    "        self.name = name\n",
    "\n",
    "    def description(self):\n",
    "        print(\"This the description function of class car.\")\n",
    "\n",
    "    @abstractmethod\n",
    "    def price(self,x):\n",
    "        pass\n",
    "class new(Car):\n",
    "    def price(self,x):\n",
    "        print(f\"The {self.name}'s price is {x} lakhs.\")"
   ]
  },
  {
   "cell_type": "code",
   "execution_count": 146,
   "metadata": {},
   "outputs": [
    {
     "name": "stdout",
     "output_type": "stream",
     "text": [
      "This the description function of class car.\n",
      "The Honda City's price is 25 lakhs.\n"
     ]
    }
   ],
   "source": [
    "obj = new(\"Honda City\")\n",
    "\n",
    "obj.description()\n",
    "obj.price(25)"
   ]
  },
  {
   "cell_type": "markdown",
   "metadata": {},
   "source": [
    "Car is the abstract class that inherits from the ABC class from the abc module. Notice how I have an abstract method (price()) and a concrete method (description()) in the abstract class. This is because the abstract class can include both of these kinds of functions but a normal class cannot. The other class inheriting from this abstract class is new(). This method is giving definition to the abstract method (price()) which is how we use abstract functions.\n",
    "\n",
    "After the user creates objects from new() class and invokes the price() method, the definitions for the price method inside the new() class comes into play. These definitions are hidden from the user. The Abstract method is just providing a declaration. The child classes need to provide the definition.\n",
    "\n",
    "But when the description() method is called for the object of new() class i.e obj, the Car’s description() method is invoked since it is not an abstract method.\n",
    "\n",
    " "
   ]
  },
  {
   "cell_type": "code",
   "execution_count": null,
   "metadata": {},
   "outputs": [],
   "source": []
  }
 ],
 "metadata": {
  "kernelspec": {
   "display_name": "Python 3",
   "language": "python",
   "name": "python3"
  },
  "language_info": {
   "codemirror_mode": {
    "name": "ipython",
    "version": 3
   },
   "file_extension": ".py",
   "mimetype": "text/x-python",
   "name": "python",
   "nbconvert_exporter": "python",
   "pygments_lexer": "ipython3",
   "version": "3.7.4"
  }
 },
 "nbformat": 4,
 "nbformat_minor": 2
}
