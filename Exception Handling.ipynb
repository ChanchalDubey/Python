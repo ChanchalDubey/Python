{
 "cells": [
  {
   "cell_type": "markdown",
   "metadata": {},
   "source": [
    "# Exception\n",
    "- An exception is an event, which occurs during the execution of a program that disrupts the normal flow of the program's instructions. In general, when a Python script encounters a situation that it cannot cope with, it raises an exception. An exception is a Python object that represents an error.\n",
    "- When a Python script raises an exception, it must either handle the exception immediately otherwise it terminates and quits.\n",
    "\n",
    "# Handling an exception\n",
    "- If you have some suspicious code that may raise an exception, you can defend your program by placing the suspicious code in a try: block. After the try: block, include an except: statement, followed by a block of code which handles the problem as elegantly as possible.\n",
    "\n",
    "# Syntax\n",
    "#### Here is simple syntax of try....except...else blocks −\n",
    "\n",
    "#### try:\n",
    "####    You do your operations here;\n",
    "####    ......................\n",
    "#### except ExceptionI:\n",
    "####    If there is ExceptionI, then execute this block.\n",
    "#### except ExceptionII:\n",
    "####    If there is ExceptionII, then execute this block.\n",
    "####    ......................\n",
    "#### else:\n",
    "####    If there is no exception then execute this block. "
   ]
  },
  {
   "cell_type": "markdown",
   "metadata": {},
   "source": [
    "# NameErrors \n",
    "- NameErrors are raised when your code refers to a name that does not exist in the current scope. For example, an unqualified variable name."
   ]
  },
  {
   "cell_type": "code",
   "execution_count": 16,
   "metadata": {},
   "outputs": [
    {
     "ename": "NameError",
     "evalue": "name 'b' is not defined",
     "output_type": "error",
     "traceback": [
      "\u001b[1;31m---------------------------------------------------------------------------\u001b[0m",
      "\u001b[1;31mNameError\u001b[0m                                 Traceback (most recent call last)",
      "\u001b[1;32m<ipython-input-16-488068fe1e94>\u001b[0m in \u001b[0;36m<module>\u001b[1;34m\u001b[0m\n\u001b[1;32m----> 1\u001b[1;33m \u001b[0ma\u001b[0m\u001b[1;33m=\u001b[0m\u001b[0mb\u001b[0m\u001b[1;33m\u001b[0m\u001b[1;33m\u001b[0m\u001b[0m\n\u001b[0m",
      "\u001b[1;31mNameError\u001b[0m: name 'b' is not defined"
     ]
    }
   ],
   "source": [
    "a=b"
   ]
  },
  {
   "cell_type": "code",
   "execution_count": 17,
   "metadata": {},
   "outputs": [
    {
     "name": "stdout",
     "output_type": "stream",
     "text": [
      "Some problem may have occured\n"
     ]
    }
   ],
   "source": [
    "try:\n",
    "    a=b\n",
    "except:\n",
    "    print(\"Some problem may have occured\")"
   ]
  },
  {
   "cell_type": "code",
   "execution_count": 18,
   "metadata": {},
   "outputs": [
    {
     "name": "stdout",
     "output_type": "stream",
     "text": [
      "name 'b' is not defined\n"
     ]
    }
   ],
   "source": [
    "try:\n",
    "    a=b\n",
    "except Exception as ex:\n",
    "    print(ex)"
   ]
  },
  {
   "cell_type": "code",
   "execution_count": 3,
   "metadata": {},
   "outputs": [
    {
     "name": "stdout",
     "output_type": "stream",
     "text": [
      "The user have not defined the variable\n"
     ]
    }
   ],
   "source": [
    "try:\n",
    "    a=b\n",
    "except NameError as ex1:\n",
    "    print(\"The user have not defined the variable\")\n",
    "except Exception as ex:\n",
    "    print(ex)"
   ]
  },
  {
   "cell_type": "markdown",
   "metadata": {},
   "source": [
    "# TypeErrors \n",
    "- TypeErrors are caused by combining the wrong type of objects, or calling a function with the wrong type of object."
   ]
  },
  {
   "cell_type": "code",
   "execution_count": 19,
   "metadata": {},
   "outputs": [
    {
     "ename": "TypeError",
     "evalue": "unsupported operand type(s) for +: 'int' and 'str'",
     "output_type": "error",
     "traceback": [
      "\u001b[1;31m---------------------------------------------------------------------------\u001b[0m",
      "\u001b[1;31mTypeError\u001b[0m                                 Traceback (most recent call last)",
      "\u001b[1;32m<ipython-input-19-9b96ead189f1>\u001b[0m in \u001b[0;36m<module>\u001b[1;34m\u001b[0m\n\u001b[0;32m      1\u001b[0m \u001b[0ma\u001b[0m\u001b[1;33m=\u001b[0m\u001b[1;36m1\u001b[0m\u001b[1;33m\u001b[0m\u001b[1;33m\u001b[0m\u001b[0m\n\u001b[0;32m      2\u001b[0m \u001b[0mb\u001b[0m\u001b[1;33m=\u001b[0m\u001b[1;34m\"s\"\u001b[0m\u001b[1;33m\u001b[0m\u001b[1;33m\u001b[0m\u001b[0m\n\u001b[1;32m----> 3\u001b[1;33m \u001b[0mc\u001b[0m\u001b[1;33m=\u001b[0m\u001b[0ma\u001b[0m\u001b[1;33m+\u001b[0m\u001b[0mb\u001b[0m\u001b[1;33m\u001b[0m\u001b[1;33m\u001b[0m\u001b[0m\n\u001b[0m",
      "\u001b[1;31mTypeError\u001b[0m: unsupported operand type(s) for +: 'int' and 'str'"
     ]
    }
   ],
   "source": [
    "a=1\n",
    "b=\"s\"\n",
    "c=a+b"
   ]
  },
  {
   "cell_type": "code",
   "execution_count": 20,
   "metadata": {},
   "outputs": [
    {
     "name": "stdout",
     "output_type": "stream",
     "text": [
      "Try to make the datatype similar\n"
     ]
    }
   ],
   "source": [
    "try:\n",
    "    a=1\n",
    "    b=\"s\"\n",
    "    c=a+b\n",
    "except TypeError:\n",
    "    print(\"Try to make the datatype similar\")\n",
    "except Exception as ex:\n",
    "    print(ex)"
   ]
  },
  {
   "cell_type": "code",
   "execution_count": 22,
   "metadata": {},
   "outputs": [
    {
     "name": "stdout",
     "output_type": "stream",
     "text": [
      "Enter the number 1 12\n",
      "Enter the number 2 0\n",
      "Please provide number greater than 0\n"
     ]
    }
   ],
   "source": [
    "try:\n",
    "    a=int(input(\"Enter the number 1 \"))\n",
    "    b=int(input(\"Enter the number 2 \"))\n",
    "    g=a/b\n",
    "    c=a*b\n",
    "    d=a+b\n",
    "    e=a-b\n",
    "    print(\"Division is \",g)\n",
    "    print(\"Multiplication is\",c)\n",
    "    print(\"Addition is\",d)\n",
    "    print(\"Subtraction is\",e)\n",
    "except NameError:\n",
    "    print(\"The user have not defined the variable\")\n",
    "except ZeroDivisionError:\n",
    "    print(\"Please provide number greater than 0\")\n",
    "except TypeError:\n",
    "    print(\"Try to make the datatype similar\")\n",
    "except Exception as ex:\n",
    "    print(ex) "
   ]
  },
  {
   "cell_type": "code",
   "execution_count": 23,
   "metadata": {},
   "outputs": [
    {
     "name": "stdout",
     "output_type": "stream",
     "text": [
      "Enter the number 1 12\n",
      "Enter the number 2 9\n",
      "Division is  1.3333333333333333\n",
      "Multiplication is 108\n",
      "Addition is 21\n",
      "Subtraction is 3\n"
     ]
    }
   ],
   "source": [
    "# try else \n",
    "try:\n",
    "    a=int(input(\"Enter the number 1 \"))\n",
    "    b=int(input(\"Enter the number 2 \"))\n",
    "    g=a/b\n",
    "    c=a*b\n",
    "    d=a+b\n",
    "    e=a-b\n",
    "except NameError:\n",
    "    print(\"The user have not defined the variable\")\n",
    "except ZeroDivisionError:\n",
    "    print(\"Please provide number greater than 0\")\n",
    "except TypeError:\n",
    "    print(\"Try to make the datatype similar\")\n",
    "except Exception as ex:\n",
    "    print(ex) \n",
    "else:\n",
    "    print(\"Division is \",g)\n",
    "    print(\"Multiplication is\",c)\n",
    "    print(\"Addition is\",d)\n",
    "    print(\"Subtraction is\",e)"
   ]
  },
  {
   "cell_type": "markdown",
   "metadata": {},
   "source": [
    "# Finally\n",
    "- The finally keyword is used in try...except blocks. It defines a block of code to run when the try...except...else block is final.\n",
    "- The finally block will be executed no matter if the try block raises an error or not.\n",
    "- This can be useful to close objects and clean up resources."
   ]
  },
  {
   "cell_type": "code",
   "execution_count": 24,
   "metadata": {},
   "outputs": [
    {
     "name": "stdout",
     "output_type": "stream",
     "text": [
      "Enter the number 1 3\n",
      "Enter the number 2 4\n",
      "Multiplication is 12\n",
      "The execution is done\n"
     ]
    }
   ],
   "source": [
    "##try else finally\n",
    "try:\n",
    "    a=int(input(\"Enter the number 1 \"))\n",
    "    b=int(input(\"Enter the number 2 \"))\n",
    "    c=a*b\n",
    "except NameError:\n",
    "    print(\"The user have not defined the variable\")\n",
    "except ZeroDivisionError:\n",
    "    print(\"Please provide number greater than 0\")\n",
    "except TypeError:\n",
    "    print(\"Try to make the datatype similar\")\n",
    "except Exception as ex:\n",
    "    print(ex) \n",
    "else:\n",
    "    print(\"Multiplication is\",c)\n",
    "finally:\n",
    "    print(\"The execution is done\")"
   ]
  },
  {
   "cell_type": "markdown",
   "metadata": {},
   "source": [
    "# Custom Exceptions\n",
    "- In Python, users can define custom exceptions by creating a new class. This exception class has to be derived, either directly or indirectly, from the built-in Exception class. Most of the built-in exceptions are also derived from this class.\n",
    "- We have created a user-defined exception called dobException which inherits from the Exception class. This new exception, can be raised using the raise statement with an optional error message."
   ]
  },
  {
   "cell_type": "code",
   "execution_count": 25,
   "metadata": {},
   "outputs": [],
   "source": [
    "class dobException(Exception):\n",
    "    pass\n",
    "    "
   ]
  },
  {
   "cell_type": "code",
   "execution_count": 26,
   "metadata": {},
   "outputs": [
    {
     "name": "stdout",
     "output_type": "stream",
     "text": [
      "Enter the year of Birth 1998\n",
      "The age is not within the range. You cannot apply to the exams\n"
     ]
    }
   ],
   "source": [
    "year=int(input(\"Enter the year of Birth \"))\n",
    "age=2021-year\n",
    "try:\n",
    "    if age<=30 & age>20:\n",
    "        print(\"The age is valid.You can apply to the exams\")\n",
    "        pass\n",
    "    else:\n",
    "        raise dobException\n",
    "except dobException:\n",
    "    print(\"The age is not within the range. You cannot apply to the exams\")\n",
    "    "
   ]
  },
  {
   "cell_type": "markdown",
   "metadata": {},
   "source": [
    "We will defined a base class called Error.\n",
    "The other two exceptions (ValueTooSmallError and ValueTooLargeError) that are actually raised by our program are derived from this class.\n",
    "\n"
   ]
  },
  {
   "cell_type": "code",
   "execution_count": 27,
   "metadata": {},
   "outputs": [],
   "source": [
    "class Error(Exception):\n",
    "    pass\n",
    "\n",
    "\n",
    "class ValueTooSmallError(Error):\n",
    "    pass\n",
    "\n",
    "\n",
    "class ValueTooLargeError(Error):\n",
    "    pass"
   ]
  },
  {
   "cell_type": "code",
   "execution_count": 32,
   "metadata": {},
   "outputs": [
    {
     "name": "stdout",
     "output_type": "stream",
     "text": [
      "Enter a number: 10\n",
      "This value is too small, try again!\n"
     ]
    }
   ],
   "source": [
    "# you need to guess this number\n",
    "num = 20\n",
    "try:\n",
    "    number = int(input(\"Enter a number: \"))\n",
    "    if number < num:\n",
    "        raise ValueTooSmallError\n",
    "    elif number > num:\n",
    "        raise ValueTooLargeError\n",
    "    elif number == num:\n",
    "        print(\"Congratulations! You guessed it correctly.\")\n",
    "        \n",
    "except ValueTooSmallError:\n",
    "    print(\"This value is too small, try again!\")\n",
    "except ValueTooLargeError:\n",
    "    print(\"This value is too large, try again!\")\n",
    "\n"
   ]
  },
  {
   "cell_type": "code",
   "execution_count": null,
   "metadata": {},
   "outputs": [],
   "source": []
  }
 ],
 "metadata": {
  "kernelspec": {
   "display_name": "Python 3",
   "language": "python",
   "name": "python3"
  },
  "language_info": {
   "codemirror_mode": {
    "name": "ipython",
    "version": 3
   },
   "file_extension": ".py",
   "mimetype": "text/x-python",
   "name": "python",
   "nbconvert_exporter": "python",
   "pygments_lexer": "ipython3",
   "version": "3.7.4"
  }
 },
 "nbformat": 4,
 "nbformat_minor": 2
}
